{
  "nbformat": 4,
  "nbformat_minor": 0,
  "metadata": {
    "colab": {
      "provenance": [],
      "authorship_tag": "ABX9TyO3EQjiSu3Kz7w5P6EuurN+",
      "include_colab_link": true
    },
    "kernelspec": {
      "name": "python3",
      "display_name": "Python 3"
    },
    "language_info": {
      "name": "python"
    }
  },
  "cells": [
    {
      "cell_type": "markdown",
      "metadata": {
        "id": "view-in-github",
        "colab_type": "text"
      },
      "source": [
        "<a href=\"https://colab.research.google.com/github/istahadul07/Python_withML_BlackOrigin/blob/main/Class11%5Bnumpy%5D.ipynb\" target=\"_parent\"><img src=\"https://colab.research.google.com/assets/colab-badge.svg\" alt=\"Open In Colab\"/></a>"
      ]
    },
    {
      "cell_type": "code",
      "execution_count": 2,
      "metadata": {
        "id": "c5rKthAOLSGs"
      },
      "outputs": [],
      "source": [
        "import numpy as np\n"
      ]
    },
    {
      "cell_type": "code",
      "source": [
        "from time import process_time"
      ],
      "metadata": {
        "id": "Mm-7GWXZLlaq"
      },
      "execution_count": 3,
      "outputs": []
    },
    {
      "cell_type": "markdown",
      "source": [
        "#list vs numpy time taken"
      ],
      "metadata": {
        "id": "up9mUY3FpoQQ"
      }
    },
    {
      "cell_type": "code",
      "source": [
        "\n",
        "lists=[i for i in range(1000)]\n",
        "start=process_time()\n",
        "lists=[i+5 for i in lists]\n",
        "end=process_time()\n",
        "print(end-start)"
      ],
      "metadata": {
        "colab": {
          "base_uri": "https://localhost:8080/"
        },
        "id": "5oQo2-pHLrMi",
        "outputId": "2e7a7af7-7ff1-45e6-ff49-688301d7fd51"
      },
      "execution_count": 4,
      "outputs": [
        {
          "output_type": "stream",
          "name": "stdout",
          "text": [
            "0.00013547400000013532\n"
          ]
        }
      ]
    },
    {
      "cell_type": "code",
      "source": [
        "#list vs numpy time taken\n",
        "lists=[i for i in range(1000)]\n",
        "start=process_time()\n",
        "lists=[i+5 for i in lists]\n",
        "end=process_time()\n",
        "print(end-start)"
      ],
      "metadata": {
        "id": "fhBdBxlDQL0Q",
        "colab": {
          "base_uri": "https://localhost:8080/"
        },
        "outputId": "f77227c0-36b0-4120-f071-f067a9c1007d"
      },
      "execution_count": 5,
      "outputs": [
        {
          "output_type": "stream",
          "name": "stdout",
          "text": [
            "0.00021272799999993985\n"
          ]
        }
      ]
    },
    {
      "cell_type": "code",
      "source": [
        "numpy_array=np.array([i for i in range(1000)])\n",
        "start=process_time()\n",
        "numpy_array=numpy_array+5\n",
        "end=process_time()\n",
        "print(end-start)"
      ],
      "metadata": {
        "colab": {
          "base_uri": "https://localhost:8080/"
        },
        "id": "oNSuHqdbjV2J",
        "outputId": "0615ec1b-7aad-4183-8858-7f18bcee0c71"
      },
      "execution_count": 6,
      "outputs": [
        {
          "output_type": "stream",
          "name": "stdout",
          "text": [
            "0.00020768299999995854\n"
          ]
        }
      ]
    },
    {
      "cell_type": "code",
      "source": [
        "list1=[1,2,3,4,5]\n",
        "print(list)\n",
        "type(list)"
      ],
      "metadata": {
        "colab": {
          "base_uri": "https://localhost:8080/"
        },
        "id": "WJJqf_JDj1ta",
        "outputId": "cc7368a0-906a-4142-b035-c410c906f7fa"
      },
      "execution_count": 7,
      "outputs": [
        {
          "output_type": "stream",
          "name": "stdout",
          "text": [
            "<class 'list'>\n"
          ]
        },
        {
          "output_type": "execute_result",
          "data": {
            "text/plain": [
              "type"
            ]
          },
          "metadata": {},
          "execution_count": 7
        }
      ]
    },
    {
      "cell_type": "code",
      "source": [
        "#numpy\n",
        "import importlib\n",
        "import numpy as np\n",
        "importlib.reload(np)\n",
        "\n",
        "np_array = np.array([1, 2, 3, 4, 5])\n",
        "print(np_array)\n",
        "print(type(np_array))\n"
      ],
      "metadata": {
        "colab": {
          "base_uri": "https://localhost:8080/"
        },
        "id": "HIXmtZRtkROo",
        "outputId": "afad33e6-69b4-47f7-f5b6-79b4a4627ad7"
      },
      "execution_count": 17,
      "outputs": [
        {
          "output_type": "stream",
          "name": "stdout",
          "text": [
            "[1 2 3 4 5]\n",
            "<class 'numpy.ndarray'>\n"
          ]
        },
        {
          "output_type": "stream",
          "name": "stderr",
          "text": [
            "/usr/lib/python3.11/importlib/__init__.py:169: UserWarning: The NumPy module was reloaded (imported a second time). This can in some cases result in small but subtle issues and is discouraged.\n",
            "  _bootstrap._exec(spec, module)\n"
          ]
        }
      ]
    },
    {
      "cell_type": "markdown",
      "source": [
        "What a.shape means\n",
        "shape is an attribute of NumPy arrays.\n",
        "It tells you the dimensions of the array as a tuple.\n",
        "The tuple has:\n",
        "Number of elements along each axis.For a 1D array, it’s (n,) where n is the length of the array.\n"
      ],
      "metadata": {
        "id": "mSrhGmrlntXX"
      }
    },
    {
      "cell_type": "code",
      "source": [
        "#creating a one dimensional array.\n",
        "a=np.array([1,2,3,4,5,7])\n",
        "print(a)\n",
        "a.shape\n"
      ],
      "metadata": {
        "colab": {
          "base_uri": "https://localhost:8080/"
        },
        "id": "8FIBTLpYmfLp",
        "outputId": "2833c307-b3a4-493b-ca83-4d0c9fb3d896"
      },
      "execution_count": 24,
      "outputs": [
        {
          "output_type": "stream",
          "name": "stdout",
          "text": [
            "[1 2 3 4 5 7]\n"
          ]
        },
        {
          "output_type": "execute_result",
          "data": {
            "text/plain": [
              "(6,)"
            ]
          },
          "metadata": {},
          "execution_count": 24
        }
      ]
    },
    {
      "cell_type": "code",
      "source": [
        "b=np.array([(1,2,3,4),(5,2,1,3)])\n",
        "print(b)\n",
        "b.shape"
      ],
      "metadata": {
        "colab": {
          "base_uri": "https://localhost:8080/"
        },
        "id": "pOyLYrzkn-Cw",
        "outputId": "a91a5096-2e81-4934-e7c2-634c17d51070"
      },
      "execution_count": 28,
      "outputs": [
        {
          "output_type": "stream",
          "name": "stdout",
          "text": [
            "[[1 2 3 4]\n",
            " [5 2 1 3]]\n"
          ]
        },
        {
          "output_type": "execute_result",
          "data": {
            "text/plain": [
              "(2, 4)"
            ]
          },
          "metadata": {},
          "execution_count": 28
        }
      ]
    },
    {
      "cell_type": "code",
      "source": [
        "#float\n",
        "c=np.array([(1.1,2.5,3.6,4),(5,2,1,3)],dtype=float)\n",
        "print(c)\n",
        "c.shape"
      ],
      "metadata": {
        "colab": {
          "base_uri": "https://localhost:8080/"
        },
        "id": "hYIqV4Pfo3sD",
        "outputId": "96bc999c-c05b-4662-95bb-9976cf91401e"
      },
      "execution_count": 31,
      "outputs": [
        {
          "output_type": "stream",
          "name": "stdout",
          "text": [
            "[[1.1 2.5 3.2 4. ]\n",
            " [5.  2.  1.  3. ]]\n"
          ]
        },
        {
          "output_type": "execute_result",
          "data": {
            "text/plain": [
              "(2, 4)"
            ]
          },
          "metadata": {},
          "execution_count": 31
        }
      ]
    },
    {
      "cell_type": "markdown",
      "source": [
        "#Initial Placeholders in numpy Array."
      ],
      "metadata": {
        "id": "XwvMVxkRpQkn"
      }
    },
    {
      "cell_type": "code",
      "source": [
        "x=np.zeros((4,5))\n",
        "print(x)\n"
      ],
      "metadata": {
        "id": "lt8asNaIpCKo",
        "colab": {
          "base_uri": "https://localhost:8080/"
        },
        "outputId": "d3248eb2-b094-4ed8-8876-f2e0c1e15ed4"
      },
      "execution_count": 32,
      "outputs": [
        {
          "output_type": "stream",
          "name": "stdout",
          "text": [
            "[[0. 0. 0. 0. 0.]\n",
            " [0. 0. 0. 0. 0.]\n",
            " [0. 0. 0. 0. 0.]\n",
            " [0. 0. 0. 0. 0.]]\n"
          ]
        }
      ]
    },
    {
      "cell_type": "code",
      "source": [
        "y=np.ones((3,3))\n",
        "print(y)"
      ],
      "metadata": {
        "colab": {
          "base_uri": "https://localhost:8080/"
        },
        "id": "Gb49sl9Mpyqp",
        "outputId": "b552d437-c39d-4859-9e27-f8c90abf2c1e"
      },
      "execution_count": 33,
      "outputs": [
        {
          "output_type": "stream",
          "name": "stdout",
          "text": [
            "[[1. 1. 1.]\n",
            " [1. 1. 1.]\n",
            " [1. 1. 1.]]\n"
          ]
        }
      ]
    },
    {
      "cell_type": "markdown",
      "source": [
        "For particular value"
      ],
      "metadata": {
        "id": "7winD8uZp6Rn"
      }
    },
    {
      "cell_type": "code",
      "source": [
        "z=np.full((3,4),6)\n",
        "print(z)"
      ],
      "metadata": {
        "colab": {
          "base_uri": "https://localhost:8080/"
        },
        "id": "WHahsInGp5zI",
        "outputId": "23587674-05f6-4a84-959a-d5f82f2cbb3e"
      },
      "execution_count": 35,
      "outputs": [
        {
          "output_type": "stream",
          "name": "stdout",
          "text": [
            "[[6 6 6 6]\n",
            " [6 6 6 6]\n",
            " [6 6 6 6]]\n"
          ]
        }
      ]
    },
    {
      "cell_type": "markdown",
      "source": [
        "creating an indentity matrix"
      ],
      "metadata": {
        "id": "Xb3w-SsZqNqv"
      }
    },
    {
      "cell_type": "code",
      "source": [
        "p=np.eye(4)\n",
        "print(p)"
      ],
      "metadata": {
        "colab": {
          "base_uri": "https://localhost:8080/"
        },
        "id": "0uRb9Wg_qMtr",
        "outputId": "6ef41705-e135-40bb-8f90-a427e14099a5"
      },
      "execution_count": 36,
      "outputs": [
        {
          "output_type": "stream",
          "name": "stdout",
          "text": [
            "[[1. 0. 0. 0.]\n",
            " [0. 1. 0. 0.]\n",
            " [0. 0. 1. 0.]\n",
            " [0. 0. 0. 1.]]\n"
          ]
        }
      ]
    },
    {
      "cell_type": "markdown",
      "source": [
        "Random float value in array"
      ],
      "metadata": {
        "id": "VAlrkr9Wqns_"
      }
    },
    {
      "cell_type": "code",
      "source": [
        "r=np.random.random((3,4))\n",
        "print(r)"
      ],
      "metadata": {
        "colab": {
          "base_uri": "https://localhost:8080/"
        },
        "id": "U0IzXXMeqnS4",
        "outputId": "9b9c0f8c-341f-4e26-ebad-1719480a7ac9"
      },
      "execution_count": 37,
      "outputs": [
        {
          "output_type": "stream",
          "name": "stdout",
          "text": [
            "[[0.4209657  0.79561067 0.72521971 0.45623619]\n",
            " [0.96139617 0.2407452  0.67493939 0.17116905]\n",
            " [0.3060723  0.52009078 0.19020364 0.99433521]]\n"
          ]
        }
      ]
    },
    {
      "cell_type": "markdown",
      "source": [
        "Random integer value array within specific range"
      ],
      "metadata": {
        "id": "hobRQ-ydq3S_"
      }
    },
    {
      "cell_type": "code",
      "source": [
        "q=np.random.randint(10,150,(3,5))\n",
        "print(q)"
      ],
      "metadata": {
        "colab": {
          "base_uri": "https://localhost:8080/"
        },
        "id": "HeRZ4DO3q2XH",
        "outputId": "da63f624-f4ec-4e2b-a6e1-f71c7e8b44d0"
      },
      "execution_count": 39,
      "outputs": [
        {
          "output_type": "stream",
          "name": "stdout",
          "text": [
            "[[ 21 112  98  96  86]\n",
            " [ 13 138 113  58  34]\n",
            " [ 78  88  79  48 128]]\n"
          ]
        }
      ]
    },
    {
      "cell_type": "markdown",
      "source": [
        "Analyzing a numpy array\n",
        "note:\n",
        "1. .shape\n",
        "Definition: A tuple that tells you the size of the array along each axis.\n",
        "What it shows: The length (number of elements) in each dimension.\n",
        "example:\n",
        "a = np.array([[1, 2, 3], [4, 5, 6]])\n",
        "print(a.shape)   # (2, 3) → 2 rows, 3 columns\n",
        "2. .ndim\n",
        "Definition: An integer that tells you the number of dimensions (axes) in the array.\n",
        "What it shows: The rank of the array\n",
        "Example:\n",
        "print(a.ndim)    # 2 → because it’s 2D (rows & columns)"
      ],
      "metadata": {
        "id": "DEAgE6OTrZAA"
      }
    },
    {
      "cell_type": "code",
      "source": [
        "#checking dimension\n",
        "xy=np.array([(1,2,3,4),(5,2,1,3)])\n",
        "print(xy)\n",
        "xy.shape\n",
        "#checking number of elements\n",
        "xy.size\n",
        "#checking datatype in array\n",
        "xy.dtype\n",
        "#checking number of dimension\n",
        "xy.ndim"
      ],
      "metadata": {
        "colab": {
          "base_uri": "https://localhost:8080/"
        },
        "id": "PQ1Ph7BlrYlB",
        "outputId": "66e4b605-951a-47cb-9aab-7cdf3a9f4040"
      },
      "execution_count": 50,
      "outputs": [
        {
          "output_type": "stream",
          "name": "stdout",
          "text": [
            "[[1 2 3 4]\n",
            " [5 2 1 3]]\n"
          ]
        },
        {
          "output_type": "execute_result",
          "data": {
            "text/plain": [
              "2"
            ]
          },
          "metadata": {},
          "execution_count": 50
        }
      ]
    },
    {
      "cell_type": "markdown",
      "source": [
        "various operation in array."
      ],
      "metadata": {
        "id": "Dd2JCDaQverD"
      }
    },
    {
      "cell_type": "code",
      "source": [
        "#numpy\n",
        "a=np.random.randint(10,100,(3,3))\n",
        "b=np.random.randint(10,100,(3,3))\n",
        "print(a)\n",
        "print(b)\n",
        "\n",
        "#sum\n",
        "print(\"Sum:\",a+b)\n",
        "#multiply\n",
        "print(\"Multiply:\",a*b)\n",
        "#divide\n",
        "print(\"Divide:\",a/b)\n",
        "\n",
        "#array manipulation\n",
        "result=np.transpose(a)\n",
        "print(result)"
      ],
      "metadata": {
        "colab": {
          "base_uri": "https://localhost:8080/"
        },
        "id": "ZyU7DiwrvB0H",
        "outputId": "9cd9ed06-9ac6-49e0-ce6d-4010d304b7ff"
      },
      "execution_count": 55,
      "outputs": [
        {
          "output_type": "stream",
          "name": "stdout",
          "text": [
            "[[33 45 62]\n",
            " [60 16 71]\n",
            " [22 30 66]]\n",
            "[[27 83 75]\n",
            " [32 17 88]\n",
            " [75 52 19]]\n",
            "Sum: [[ 60 128 137]\n",
            " [ 92  33 159]\n",
            " [ 97  82  85]]\n",
            "Multiply: [[ 891 3735 4650]\n",
            " [1920  272 6248]\n",
            " [1650 1560 1254]]\n",
            "Divide: [[1.22222222 0.54216867 0.82666667]\n",
            " [1.875      0.94117647 0.80681818]\n",
            " [0.29333333 0.57692308 3.47368421]]\n",
            "[[33 60 22]\n",
            " [45 16 30]\n",
            " [62 71 66]]\n"
          ]
        }
      ]
    }
  ]
}
