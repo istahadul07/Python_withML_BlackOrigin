{
  "cells": [
    {
      "cell_type": "markdown",
      "metadata": {
        "id": "view-in-github",
        "colab_type": "text"
      },
      "source": [
        "<a href=\"https://colab.research.google.com/github/istahadul07/Python_withML_BlackOrigin/blob/main/class05.ipynb\" target=\"_parent\"><img src=\"https://colab.research.google.com/assets/colab-badge.svg\" alt=\"Open In Colab\"/></a>"
      ]
    },
    {
      "cell_type": "markdown",
      "metadata": {
        "id": "w4Qc-tDMKXxc"
      },
      "source": [
        "loop in python\n"
      ]
    },
    {
      "cell_type": "code",
      "execution_count": 58,
      "metadata": {
        "colab": {
          "base_uri": "https://localhost:8080/"
        },
        "id": "8MsUTfeiKljr",
        "outputId": "926e7636-c7ff-4a47-e602-356904ea93e8"
      },
      "outputs": [
        {
          "output_type": "stream",
          "name": "stdout",
          "text": [
            "1\n",
            "3\n",
            "5\n",
            "7\n",
            "9\n"
          ]
        }
      ],
      "source": [
        "#while loop\n",
        "i=0\n",
        "while i<=9: #conditon\n",
        "  print(i)\n",
        "  i+=1 #increment value\n",
        "\n",
        "\n",
        "#print 100-1\n",
        "i=100\n",
        "while i>=1:\n",
        "  print(i)\n",
        "  i-=1\n",
        "\n",
        "\n",
        "#count how many digit in given number.\n",
        "a=int(input(\"enter a number\"))\n",
        "count=1\n",
        "if a==0:\n",
        "  print(count)\n",
        "else:\n",
        "  count=0\n",
        "  while a>0:\n",
        "    a=a//10\n",
        "    count+=1\n",
        "  print(count)\n",
        "\n",
        "#count sum of given numbers [break if number equal 0]\n",
        "result=0\n",
        "while(1):\n",
        "  a=int(input(\"enter a number\"))\n",
        "  if a==0:\n",
        "    break\n",
        "  else:\n",
        "   result=result+a\n",
        "\n",
        "#reverse a number's digit\n",
        "print(result)\n",
        "number=int(input(\"enter a number\"))\n",
        "i=0\n",
        "while  number!=0:\n",
        "    digit=number%10\n",
        "    i=i*10+digit\n",
        "    number=number//10\n",
        "print(i)\n",
        "\n",
        "#Print a list\n",
        "list1=[12,13,15,16,19,21,22]\n",
        "i=0\n",
        "while i<len(list1):\n",
        "  print(list1[i])\n",
        "  i+=1\n",
        "\n",
        "#find a specific number in a tuple by while loop\n",
        "tuple1=(1,2,4,5,23,41)\n",
        "x=int(input(\"Enter a number\"))\n",
        "i=0\n",
        "while i<len(tuple1):\n",
        "  if tuple1[i]==x:\n",
        "    print(i)\n",
        "    break\n",
        "  i+=1\n",
        "else:\n",
        "  print(\"not found\")\n",
        "\n",
        "#use of continue statement\n",
        "i=0\n",
        "while i<=5:\n",
        "  if i==3:\n",
        "    i=i+1\n",
        "    continue\n",
        "  print(i)\n",
        "  i=i+1\n",
        "\n",
        "#print odd number from 0-10.\n",
        "i=0\n",
        "while i<=10:\n",
        "  if(i%2==0):\n",
        "    i=i+1\n",
        "    continue\n",
        "  print(i)\n",
        "  i=i+1"
      ]
    },
    {
      "cell_type": "markdown",
      "source": [
        "if,else,elif,while,break,continue,pass,for all called as \"Control flow statement"
      ],
      "metadata": {
        "id": "5tFuJ60Tkq8N"
      }
    }
  ],
  "metadata": {
    "colab": {
      "provenance": [],
      "authorship_tag": "ABX9TyN8RB+UcA2HDhMJl4fMNND8",
      "include_colab_link": true
    },
    "kernelspec": {
      "display_name": "Python 3",
      "name": "python3"
    },
    "language_info": {
      "name": "python"
    }
  },
  "nbformat": 4,
  "nbformat_minor": 0
}