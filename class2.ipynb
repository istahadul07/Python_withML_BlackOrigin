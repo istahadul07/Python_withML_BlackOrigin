{
  "nbformat": 4,
  "nbformat_minor": 0,
  "metadata": {
    "colab": {
      "provenance": [],
      "authorship_tag": "ABX9TyOYzxsw4EC1VmZ5mp6X4XiL",
      "include_colab_link": true
    },
    "kernelspec": {
      "name": "python3",
      "display_name": "Python 3"
    },
    "language_info": {
      "name": "python"
    }
  },
  "cells": [
    {
      "cell_type": "markdown",
      "metadata": {
        "id": "view-in-github",
        "colab_type": "text"
      },
      "source": [
        "<a href=\"https://colab.research.google.com/github/istahadul07/Python_withML_BlackOrigin/blob/main/class2.ipynb\" target=\"_parent\"><img src=\"https://colab.research.google.com/assets/colab-badge.svg\" alt=\"Open In Colab\"/></a>"
      ]
    },
    {
      "cell_type": "code",
      "execution_count": null,
      "metadata": {
        "colab": {
          "base_uri": "https://localhost:8080/"
        },
        "id": "lgXOnn6M1z9I",
        "outputId": "61ec484b-afd8-4b26-ef07-218c0b8293a3"
      },
      "outputs": [
        {
          "output_type": "stream",
          "name": "stdout",
          "text": [
            "15\n"
          ]
        }
      ],
      "source": [
        "x=5\n",
        "y=10\n",
        "print(x+y)"
      ]
    },
    {
      "cell_type": "markdown",
      "source": [],
      "metadata": {
        "id": "M_JnBT0g6WU9"
      }
    },
    {
      "cell_type": "code",
      "source": [
        "#constant expression\n",
        "x=10+5\n",
        "print(x)"
      ],
      "metadata": {
        "colab": {
          "base_uri": "https://localhost:8080/"
        },
        "id": "tUhYhBBd2tDP",
        "outputId": "048f9f83-cc9e-44d6-aeb1-5c0f8b7ea906"
      },
      "execution_count": null,
      "outputs": [
        {
          "output_type": "stream",
          "name": "stdout",
          "text": [
            "15\n"
          ]
        }
      ]
    },
    {
      "cell_type": "code",
      "source": [],
      "metadata": {
        "id": "DQOwG48C7PU8"
      },
      "execution_count": null,
      "outputs": []
    },
    {
      "cell_type": "code",
      "source": [
        "#arithmatic expression\n",
        "y=\"Neymar\"\n",
        "x=y*4\n",
        "print(x)\n"
      ],
      "metadata": {
        "colab": {
          "base_uri": "https://localhost:8080/"
        },
        "id": "sLSax3XN23vu",
        "outputId": "0dae356f-dd32-4cc0-b1be-feb3727e7614"
      },
      "execution_count": null,
      "outputs": [
        {
          "output_type": "stream",
          "name": "stdout",
          "text": [
            "NeymarNeymarNeymarNeymar\n"
          ]
        }
      ]
    },
    {
      "cell_type": "code",
      "source": [
        "#relational expression\n",
        "x=(10+12)<=(5+1)\n",
        "print(x)\n",
        "\n",
        "y=(10+12)>=(5+1)\n",
        "print(y)"
      ],
      "metadata": {
        "colab": {
          "base_uri": "https://localhost:8080/"
        },
        "id": "lp4naIlc3M44",
        "outputId": "f717a1d7-3c0f-4e8e-fcab-9609842eb52c"
      },
      "execution_count": null,
      "outputs": [
        {
          "output_type": "stream",
          "name": "stdout",
          "text": [
            "False\n",
            "True\n"
          ]
        }
      ]
    },
    {
      "cell_type": "code",
      "source": [
        "#integral exp\n",
        "x=10\n",
        "y=9.1\n",
        "z=11.2\n",
        "print(x+int(y)+z)"
      ],
      "metadata": {
        "colab": {
          "base_uri": "https://localhost:8080/"
        },
        "id": "7-Pv73ot4pZQ",
        "outputId": "8e554929-49b0-4929-ce5e-fc403fcab850"
      },
      "execution_count": null,
      "outputs": [
        {
          "output_type": "stream",
          "name": "stdout",
          "text": [
            "30.2\n"
          ]
        }
      ]
    },
    {
      "cell_type": "code",
      "source": [
        "#float conversion\n",
        "x=18\n",
        "y=3\n",
        "print(float(x/y))"
      ],
      "metadata": {
        "colab": {
          "base_uri": "https://localhost:8080/"
        },
        "id": "kTZox1Az49-k",
        "outputId": "b885b9a6-c220-4fbe-c524-5026270899eb"
      },
      "execution_count": null,
      "outputs": [
        {
          "output_type": "stream",
          "name": "stdout",
          "text": [
            "6.0\n"
          ]
        }
      ]
    },
    {
      "cell_type": "code",
      "source": [
        "#logical exp\n",
        "#!>and>or\n",
        "x=(13<10)and(5<6)\n",
        "print(x)\n",
        "\n",
        "y=(12>2)or(5==6)\n",
        "print(y)"
      ],
      "metadata": {
        "colab": {
          "base_uri": "https://localhost:8080/"
        },
        "id": "2KKhg1y95TFG",
        "outputId": "536a62c3-c2c6-49a2-a65a-23a23a573143"
      },
      "execution_count": null,
      "outputs": [
        {
          "output_type": "stream",
          "name": "stdout",
          "text": [
            "False\n",
            "True\n"
          ]
        }
      ]
    },
    {
      "cell_type": "code",
      "source": [
        "#bitwise expression\n",
        "result=10<<2\n",
        "print(result)\n"
      ],
      "metadata": {
        "colab": {
          "base_uri": "https://localhost:8080/"
        },
        "id": "yLkEprwp5DX9",
        "outputId": "c908f021-70f0-4a2b-c63e-bf0266919212"
      },
      "execution_count": null,
      "outputs": [
        {
          "output_type": "stream",
          "name": "stdout",
          "text": [
            "40\n"
          ]
        }
      ]
    },
    {
      "cell_type": "code",
      "source": [
        "#comment multiple lines\n",
        "'''\n",
        "Ronaldo played world cup in 2006 for portugal\n",
        "'''\n",
        "'''\n",
        "This is a multi-line comment\n",
        "using triple single quotes.\n",
        "It won't be executed by Python.\n",
        "'''"
      ],
      "metadata": {
        "colab": {
          "base_uri": "https://localhost:8080/",
          "height": 36
        },
        "id": "-irmE2Wk8XpX",
        "outputId": "e9aedbeb-465f-4e9a-e8ea-c4388a8672bd"
      },
      "execution_count": 24,
      "outputs": [
        {
          "output_type": "execute_result",
          "data": {
            "text/plain": [
              "\"\\nThis is a multi-line comment\\nusing triple single quotes.\\nIt won't be executed by Python.\\n\""
            ],
            "application/vnd.google.colaboratory.intrinsic+json": {
              "type": "string"
            }
          },
          "metadata": {},
          "execution_count": 24
        }
      ]
    },
    {
      "cell_type": "code",
      "source": [
        "#single line comment\n",
        "# x=10+5"
      ],
      "metadata": {
        "id": "AQy-s8GY84lm"
      },
      "execution_count": 25,
      "outputs": []
    },
    {
      "cell_type": "code",
      "source": [
        "#take value from user\n",
        "x1=\"Enter the value of x\"\n",
        "print(x1)\n",
        "x=int(input())\n",
        "y1=\"Enter the value of y\"\n",
        "print(y1)\n",
        "y=float(input())\n",
        "print(\"The result:\")\n",
        "print(x+y)\n"
      ],
      "metadata": {
        "colab": {
          "base_uri": "https://localhost:8080/"
        },
        "id": "BJsw-dES9EvM",
        "outputId": "f99426d7-1da4-4474-ad1e-bc1b42737e08"
      },
      "execution_count": 30,
      "outputs": [
        {
          "output_type": "stream",
          "name": "stdout",
          "text": [
            "Enter the value of x\n",
            "45\n",
            "Enter the value of y\n",
            "87.2\n",
            "The result:\n",
            "132.2\n"
          ]
        }
      ]
    },
    {
      "cell_type": "code",
      "source": [
        "#write a code for a square's area\n",
        "a=float(input(\"Enter the value of a:\"))\n",
        "area=a*a\n",
        "print(\"The result is:\",area)\n"
      ],
      "metadata": {
        "colab": {
          "base_uri": "https://localhost:8080/"
        },
        "id": "pe_qCh28BViX",
        "outputId": "ec91d797-f9db-46d4-a785-cd0b721f7635"
      },
      "execution_count": 31,
      "outputs": [
        {
          "output_type": "stream",
          "name": "stdout",
          "text": [
            "Enter the value of a:5\n",
            "The result is: 25.0\n"
          ]
        }
      ]
    },
    {
      "cell_type": "code",
      "source": [
        "#write a code for two floating point's avg\n",
        "x=float(input(\"Enter the value of x:\"))\n",
        "y=float(input(\"Enter the value of y:\"))\n",
        "result=(x+y)/2\n",
        "print(result)"
      ],
      "metadata": {
        "colab": {
          "base_uri": "https://localhost:8080/"
        },
        "id": "YEuCMExfBu00",
        "outputId": "572d0bd4-eb39-45db-9945-80e90ae8ae72"
      },
      "execution_count": 32,
      "outputs": [
        {
          "output_type": "stream",
          "name": "stdout",
          "text": [
            "Enter the value of x:6\n",
            "Enter the value of y:2\n",
            "4.0\n"
          ]
        }
      ]
    },
    {
      "cell_type": "code",
      "source": [
        "x=int(input(\"Enter the value of x:\"))\n",
        "y=int(input(\"Enter the value of y:\"))\n",
        "z=(x>=y) or (x==y)\n",
        "print(z)"
      ],
      "metadata": {
        "colab": {
          "base_uri": "https://localhost:8080/"
        },
        "id": "U_zDsrUZCMcs",
        "outputId": "90865169-d465-44ca-9828-620d91567e2a"
      },
      "execution_count": 38,
      "outputs": [
        {
          "output_type": "stream",
          "name": "stdout",
          "text": [
            "Enter the value of x:4\n",
            "Enter the value of y:3\n",
            "True\n"
          ]
        }
      ]
    },
    {
      "cell_type": "code",
      "source": [
        "#string\n",
        "first_name=\"Istahadul\"\n",
        "last_name=\"Hoque\"\n",
        "print(first_name+\" \"+last_name)\n",
        "#count_variable length with len() function\n",
        "print(len(first_name))\n",
        "print(len(last_name))\n"
      ],
      "metadata": {
        "colab": {
          "base_uri": "https://localhost:8080/"
        },
        "id": "HySORUskFXbr",
        "outputId": "ce31fa4c-c2ac-47d9-a9bd-8c667db3013a"
      },
      "execution_count": 41,
      "outputs": [
        {
          "output_type": "stream",
          "name": "stdout",
          "text": [
            "Istahadul Hoque\n",
            "9\n",
            "5\n"
          ]
        }
      ]
    },
    {
      "cell_type": "code",
      "source": [
        "#indexing\n",
        "name=\"ronaldo\"\n",
        "x=name[0]\n",
        "y=name[6]\n",
        "print(x)\n",
        "print(y)\n",
        "#replace function\n",
        "name1=\"takin\"\n",
        "print(\"The old name is:\",name1)\n",
        "newname1=name1.replace(\"k\",\"s\")\n",
        "print(\"Correct name:\",newname1)\n",
        "name2=\"Messii\"\n",
        "print(name2[3:5])\n",
        "#negative indexing\n",
        "print(name2[-1])"
      ],
      "metadata": {
        "colab": {
          "base_uri": "https://localhost:8080/"
        },
        "id": "XAd7RGDiF2DB",
        "outputId": "cdd574fc-a405-4d4e-b415-00b6deeb9e79"
      },
      "execution_count": 57,
      "outputs": [
        {
          "output_type": "stream",
          "name": "stdout",
          "text": [
            "r\n",
            "o\n",
            "The old name is: takin\n",
            "Correct name: tasin\n",
            "si\n",
            "o\n"
          ]
        }
      ]
    },
    {
      "cell_type": "code",
      "source": [
        "#string functions\n",
        "name=\"i am the best\"\n",
        "output=name.endswith(\"best\")\n",
        "print(output)\n",
        "output1=name.count(\"t\")\n",
        "print(output1)\n",
        "output2=name.capitalize()\n",
        "print(output2)\n"
      ],
      "metadata": {
        "colab": {
          "base_uri": "https://localhost:8080/"
        },
        "id": "0zGiIl8XLH1v",
        "outputId": "d758a8ba-8618-4bfc-bc79-5c1a42c07deb"
      },
      "execution_count": 67,
      "outputs": [
        {
          "output_type": "stream",
          "name": "stdout",
          "text": [
            "True\n",
            "2\n",
            "I am the best\n"
          ]
        }
      ]
    }
  ]
}