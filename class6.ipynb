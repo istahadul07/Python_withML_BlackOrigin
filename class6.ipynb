{
  "nbformat": 4,
  "nbformat_minor": 0,
  "metadata": {
    "colab": {
      "provenance": [],
      "authorship_tag": "ABX9TyN4I1yaBjgJpflDSPBnRHs8",
      "include_colab_link": true
    },
    "kernelspec": {
      "name": "python3",
      "display_name": "Python 3"
    },
    "language_info": {
      "name": "python"
    }
  },
  "cells": [
    {
      "cell_type": "markdown",
      "metadata": {
        "id": "view-in-github",
        "colab_type": "text"
      },
      "source": [
        "<a href=\"https://colab.research.google.com/github/istahadul07/Python_withML_BlackOrigin/blob/main/class6.ipynb\" target=\"_parent\"><img src=\"https://colab.research.google.com/assets/colab-badge.svg\" alt=\"Open In Colab\"/></a>"
      ]
    },
    {
      "cell_type": "code",
      "execution_count": null,
      "metadata": {
        "id": "ZHr2p9AQe442"
      },
      "outputs": [],
      "source": []
    },
    {
      "cell_type": "markdown",
      "source": [
        "For loop"
      ],
      "metadata": {
        "id": "nyLoZlERe5o6"
      }
    },
    {
      "cell_type": "code",
      "source": [
        "veggis=[\"potato\",\"cucumber\",\"turnips\"]\n",
        "for vegs in veggis:\n",
        "  print(vegs)\n",
        "\n",
        "numbers=[1,2,3,4,5,6]\n",
        "for num in numbers:\n",
        "  print(num)"
      ],
      "metadata": {
        "id": "3OAQoPvDe8NB"
      },
      "execution_count": null,
      "outputs": []
    },
    {
      "cell_type": "markdown",
      "source": [
        "#while example\n",
        "[1,2,3,4,5,6]"
      ],
      "metadata": {
        "id": "_AEcntjIf6AI"
      }
    },
    {
      "cell_type": "code",
      "source": [
        "i=0\n",
        "numbers=[1,2,3,4,5,6]\n",
        "while i<len(numbers):\n",
        "  print(\"While loop:\",numbers[i])\n",
        "  i=i+1\n",
        "\n",
        "for num in numbers:\n",
        "  print(num)\n",
        "\n",
        "#for loop use in list,tuple,set,string[not works in dictornary]\n",
        "#while loop in iteration\n",
        "\n",
        "#string in for loop\n",
        "name=\"Istahadul Hoque\"\n",
        "inputs=input(\"Enter a char:\")\n",
        "for x in name:\n",
        "  if x==inputs:\n",
        "    print(\"found\")\n",
        "    break\n",
        "else:\n",
        "    print(\"Not found\")\n"
      ],
      "metadata": {
        "id": "s-RjmvaAgIc6"
      },
      "execution_count": null,
      "outputs": []
    },
    {
      "cell_type": "markdown",
      "source": [
        "practice 1"
      ],
      "metadata": {
        "id": "-cTTeChzj4_K"
      }
    },
    {
      "cell_type": "code",
      "source": [
        "list1=[1,4,9,16,25,36,49,64,81,100]\n",
        "for i in list1:\n",
        "  print(i)"
      ],
      "metadata": {
        "colab": {
          "base_uri": "https://localhost:8080/"
        },
        "id": "BnNdh_3gj660",
        "outputId": "a19cb1c1-ab7f-49d7-fc77-a55123df0be7"
      },
      "execution_count": null,
      "outputs": [
        {
          "output_type": "stream",
          "name": "stdout",
          "text": [
            "1\n",
            "4\n",
            "9\n",
            "16\n",
            "25\n",
            "36\n",
            "49\n",
            "64\n",
            "81\n",
            "100\n"
          ]
        }
      ]
    },
    {
      "cell_type": "markdown",
      "source": [
        "problem 2"
      ],
      "metadata": {
        "id": "F7nCQh-PkPrp"
      }
    },
    {
      "cell_type": "code",
      "source": [
        "tuple1=(3,6,9,12,15,18,21,24,27,30)\n",
        "x=int(input(\"Enter the value of x:\"))\n",
        "for i in tuple1:\n",
        "  if i==x:\n",
        "    print(\"Found\")\n",
        "    break\n",
        "else:\n",
        "  print(\"Not found\")"
      ],
      "metadata": {
        "id": "a7iJlzukkVH2"
      },
      "execution_count": null,
      "outputs": []
    },
    {
      "cell_type": "markdown",
      "source": [
        "Range()in foor loop\n",
        "start from 0 and increment by 1(by default) and stops before a specified number."
      ],
      "metadata": {
        "id": "WIaEJAlYktpo"
      }
    },
    {
      "cell_type": "code",
      "source": [
        "#range(start,stop,step)\n",
        "for x in range(6):\n",
        "  print(x)\n",
        "\n",
        "#two value in range(start,end)\n",
        "for i in range(5,10):\n",
        "  print(i)\n",
        "\n",
        "#three value in range\n",
        "for j in range(1,10,2):#here step is increment value.\n",
        "  print(j)"
      ],
      "metadata": {
        "id": "3hjD8yRPk7p_"
      },
      "execution_count": null,
      "outputs": []
    },
    {
      "cell_type": "markdown",
      "source": [
        "problem 3"
      ],
      "metadata": {
        "id": "vF7l5wUWnapC"
      }
    },
    {
      "cell_type": "code",
      "source": [
        "#print odd numbers between 1 to 50\n",
        "for x in range(1,51,2):\n",
        "  print(x)"
      ],
      "metadata": {
        "id": "jdV14_oanc9h"
      },
      "execution_count": null,
      "outputs": []
    },
    {
      "cell_type": "code",
      "source": [
        "#print 50 to 1 decreasing by 5\n",
        "for y in range(50,0,-5):\n",
        "  print(y)"
      ],
      "metadata": {
        "id": "ubiPCqFhoW6p"
      },
      "execution_count": null,
      "outputs": []
    },
    {
      "cell_type": "markdown",
      "source": [
        "Nested for loop"
      ],
      "metadata": {
        "id": "RbD7qyT_o6iG"
      }
    },
    {
      "cell_type": "code",
      "source": [
        "a=[1,2,3]\n",
        "b=[4,5,6]\n",
        "for x in a:\n",
        "  for y in b:\n",
        "    print(x,y)"
      ],
      "metadata": {
        "id": "rBsDj2b6xMTD"
      },
      "execution_count": null,
      "outputs": []
    },
    {
      "cell_type": "code",
      "source": [
        "count=1\n",
        "x=int(input(\"Enter a number:\"))\n",
        "for x in range(1,(x+1),1):\n",
        "  count=count*x\n",
        "print(count)\n",
        "count1=1\n",
        "\n",
        "y=int(input(\"Enter a number:\"))\n",
        "while y>=1:\n",
        "  count1=count1*y\n",
        "  y=y-1\n",
        "print(count)"
      ],
      "metadata": {
        "id": "07-W56dKweol"
      },
      "execution_count": null,
      "outputs": []
    },
    {
      "cell_type": "markdown",
      "source": [
        "Function"
      ],
      "metadata": {
        "id": "kryIJeg73qyt"
      }
    },
    {
      "cell_type": "code",
      "source": [
        "#basic function\n",
        "# def fucntionName(parameter1,parameter2):\n",
        "#     pass\n",
        "# functionName(argument1,argument2)\n",
        "\n",
        "def sumvalues(x,y):\n",
        "    sum=x+y\n",
        "    print(sum)\n",
        "\n",
        "sumvalues(10,20)"
      ],
      "metadata": {
        "colab": {
          "base_uri": "https://localhost:8080/"
        },
        "id": "VBni2p743snL",
        "outputId": "b3411565-551f-4d68-d25d-4852b8853807"
      },
      "execution_count": null,
      "outputs": [
        {
          "output_type": "stream",
          "name": "stdout",
          "text": [
            "30\n"
          ]
        }
      ]
    }
  ]
}